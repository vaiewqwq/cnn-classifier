{
 "cells": [
  {
   "cell_type": "code",
   "id": "initial_id",
   "metadata": {
    "collapsed": true,
    "ExecuteTime": {
     "end_time": "2024-11-08T02:55:52.971671Z",
     "start_time": "2024-11-08T02:55:52.943530Z"
    }
   },
   "source": "d = {\"key\":\"value\",\"key1\": \"value1\"}",
   "outputs": [],
   "execution_count": 1
  },
  {
   "metadata": {
    "ExecuteTime": {
     "end_time": "2024-11-08T02:56:07.098040Z",
     "start_time": "2024-11-08T02:56:07.069815Z"
    }
   },
   "cell_type": "code",
   "source": "d[\"key\"]",
   "id": "c7abdedde3bec3bb",
   "outputs": [
    {
     "data": {
      "text/plain": [
       "'value'"
      ]
     },
     "execution_count": 2,
     "metadata": {},
     "output_type": "execute_result"
    }
   ],
   "execution_count": 2
  },
  {
   "metadata": {
    "ExecuteTime": {
     "end_time": "2024-11-08T02:56:19.033604Z",
     "start_time": "2024-11-08T02:56:18.683757Z"
    }
   },
   "cell_type": "code",
   "source": "d.key",
   "id": "38ea5e1934059c43",
   "outputs": [
    {
     "ename": "AttributeError",
     "evalue": "'dict' object has no attribute 'key'",
     "output_type": "error",
     "traceback": [
      "\u001B[1;31m---------------------------------------------------------------------------\u001B[0m",
      "\u001B[1;31mAttributeError\u001B[0m                            Traceback (most recent call last)",
      "Cell \u001B[1;32mIn[3], line 1\u001B[0m\n\u001B[1;32m----> 1\u001B[0m \u001B[43md\u001B[49m\u001B[38;5;241;43m.\u001B[39;49m\u001B[43mkey\u001B[49m\n",
      "\u001B[1;31mAttributeError\u001B[0m: 'dict' object has no attribute 'key'"
     ]
    }
   ],
   "execution_count": 3
  },
  {
   "metadata": {
    "ExecuteTime": {
     "end_time": "2024-11-08T02:56:32.220536Z",
     "start_time": "2024-11-08T02:56:31.981905Z"
    }
   },
   "cell_type": "code",
   "source": "from box import ConfigBox",
   "id": "98569f37aba60070",
   "outputs": [],
   "execution_count": 4
  },
  {
   "metadata": {
    "ExecuteTime": {
     "end_time": "2024-11-08T02:56:46.201624Z",
     "start_time": "2024-11-08T02:56:46.179386Z"
    }
   },
   "cell_type": "code",
   "source": "d2 = {\"key\":\"value\",\"key1\": \"value1\"}",
   "id": "e64f0167a96f6c05",
   "outputs": [],
   "execution_count": 5
  },
  {
   "metadata": {
    "ExecuteTime": {
     "end_time": "2024-11-08T02:57:08.133816Z",
     "start_time": "2024-11-08T02:57:08.109216Z"
    }
   },
   "cell_type": "code",
   "source": "d2 = ConfigBox(d2)",
   "id": "b416e2255c7d29a0",
   "outputs": [],
   "execution_count": 6
  },
  {
   "metadata": {
    "ExecuteTime": {
     "end_time": "2024-11-08T02:57:22.170579Z",
     "start_time": "2024-11-08T02:57:22.158983Z"
    }
   },
   "cell_type": "code",
   "source": "d2",
   "id": "f03c6bc458a021b4",
   "outputs": [
    {
     "data": {
      "text/plain": [
       "ConfigBox({'key': 'value', 'key1': 'value1'})"
      ]
     },
     "execution_count": 7,
     "metadata": {},
     "output_type": "execute_result"
    }
   ],
   "execution_count": 7
  },
  {
   "metadata": {
    "ExecuteTime": {
     "end_time": "2024-11-08T02:57:34.728863Z",
     "start_time": "2024-11-08T02:57:34.697196Z"
    }
   },
   "cell_type": "code",
   "source": "d2.key1",
   "id": "aeccd6da27953930",
   "outputs": [
    {
     "data": {
      "text/plain": [
       "'value1'"
      ]
     },
     "execution_count": 8,
     "metadata": {},
     "output_type": "execute_result"
    }
   ],
   "execution_count": 8
  },
  {
   "metadata": {
    "ExecuteTime": {
     "end_time": "2024-11-08T02:57:48.458662Z",
     "start_time": "2024-11-08T02:57:48.434518Z"
    }
   },
   "cell_type": "code",
   "source": [
    "def get_product(x:int, y:int):\n",
    "    return x*y"
   ],
   "id": "9cfd754bfbf3cc8d",
   "outputs": [],
   "execution_count": 9
  },
  {
   "metadata": {
    "ExecuteTime": {
     "end_time": "2024-11-08T02:58:01.264216Z",
     "start_time": "2024-11-08T02:58:01.232419Z"
    }
   },
   "cell_type": "code",
   "source": [
    "\n",
    "get_product(x = 2, y = 3)"
   ],
   "id": "5dd1122547503547",
   "outputs": [
    {
     "data": {
      "text/plain": [
       "6"
      ]
     },
     "execution_count": 10,
     "metadata": {},
     "output_type": "execute_result"
    }
   ],
   "execution_count": 10
  },
  {
   "metadata": {
    "ExecuteTime": {
     "end_time": "2024-11-08T02:58:37.806339Z",
     "start_time": "2024-11-08T02:58:37.793522Z"
    }
   },
   "cell_type": "code",
   "source": "get_product(x = 2, y = \"3\")",
   "id": "3197ccb5ac9899c2",
   "outputs": [
    {
     "data": {
      "text/plain": [
       "'33'"
      ]
     },
     "execution_count": 11,
     "metadata": {},
     "output_type": "execute_result"
    }
   ],
   "execution_count": 11
  },
  {
   "metadata": {
    "ExecuteTime": {
     "end_time": "2024-11-08T02:58:52.974715Z",
     "start_time": "2024-11-08T02:58:52.926912Z"
    }
   },
   "cell_type": "code",
   "source": "from ensure import ensure_annotations",
   "id": "1c6c495a07b2a04a",
   "outputs": [],
   "execution_count": 12
  },
  {
   "metadata": {
    "ExecuteTime": {
     "end_time": "2024-11-08T02:59:07.364931Z",
     "start_time": "2024-11-08T02:59:07.352830Z"
    }
   },
   "cell_type": "code",
   "source": [
    "@ensure_annotations\n",
    "def get_product(x:int, y:int):\n",
    "    return x*y"
   ],
   "id": "88f2f1bd8da9b774",
   "outputs": [],
   "execution_count": 13
  },
  {
   "metadata": {
    "ExecuteTime": {
     "end_time": "2024-11-08T02:59:17.843424Z",
     "start_time": "2024-11-08T02:59:17.816139Z"
    }
   },
   "cell_type": "code",
   "source": "get_product(x = 2, y = 3)",
   "id": "a797fad7d7df410d",
   "outputs": [
    {
     "data": {
      "text/plain": [
       "6"
      ]
     },
     "execution_count": 14,
     "metadata": {},
     "output_type": "execute_result"
    }
   ],
   "execution_count": 14
  },
  {
   "metadata": {
    "ExecuteTime": {
     "end_time": "2024-11-08T02:59:43.553952Z",
     "start_time": "2024-11-08T02:59:42.475905Z"
    }
   },
   "cell_type": "code",
   "source": "import gdown",
   "id": "59f8a603d017fe7d",
   "outputs": [],
   "execution_count": 16
  },
  {
   "metadata": {
    "ExecuteTime": {
     "end_time": "2024-11-08T03:00:07.598744Z",
     "start_time": "2024-11-08T03:00:07.578052Z"
    }
   },
   "cell_type": "code",
   "source": "url = \"https://drive.google.com/file/d/1z0mreUtRmR-P-magILsDR3T7M6IkGXtY/view?usp=sharing\"",
   "id": "b4b75c810e7443b8",
   "outputs": [],
   "execution_count": 17
  },
  {
   "metadata": {
    "ExecuteTime": {
     "end_time": "2024-11-08T03:00:18.447101Z",
     "start_time": "2024-11-08T03:00:18.427487Z"
    }
   },
   "cell_type": "code",
   "source": "type(url)",
   "id": "ef833786cd54a0b9",
   "outputs": [
    {
     "data": {
      "text/plain": [
       "str"
      ]
     },
     "execution_count": 18,
     "metadata": {},
     "output_type": "execute_result"
    }
   ],
   "execution_count": 18
  },
  {
   "metadata": {
    "ExecuteTime": {
     "end_time": "2024-11-08T03:00:32.217529Z",
     "start_time": "2024-11-08T03:00:32.182346Z"
    }
   },
   "cell_type": "code",
   "source": [
    "file_id = url.split(\"/\")[-2]\n",
    "file_id"
   ],
   "id": "6159056a3589616c",
   "outputs": [
    {
     "data": {
      "text/plain": [
       "'1z0mreUtRmR-P-magILsDR3T7M6IkGXtY'"
      ]
     },
     "execution_count": 19,
     "metadata": {},
     "output_type": "execute_result"
    }
   ],
   "execution_count": 19
  },
  {
   "metadata": {
    "ExecuteTime": {
     "end_time": "2024-11-08T03:06:18.740692Z",
     "start_time": "2024-11-08T03:05:03.684250Z"
    }
   },
   "cell_type": "code",
   "source": [
    "prefix = 'https://drive.google.com/uc?/export=download&id='\n",
    "gdown.download(prefix+file_id, \"Chest-CT-Scan-data.zip\")"
   ],
   "id": "57c1872b9a8372f8",
   "outputs": [
    {
     "name": "stderr",
     "output_type": "stream",
     "text": [
      "Downloading...\n",
      "From (original): https://drive.google.com/uc?/export=download&id=1z0mreUtRmR-P-magILsDR3T7M6IkGXtY\n",
      "From (redirected): https://drive.google.com/uc?%2Fexport=download&id=1z0mreUtRmR-P-magILsDR3T7M6IkGXtY&confirm=t&uuid=2f3c7905-0214-4ad3-9d15-19dc76f62732\n",
      "To: C:\\Users\\hp\\PycharmProjects\\cnnClassifier\\research\\Chest-CT-Scan-data.zip\n",
      "100%|██████████| 49.0M/49.0M [01:01<00:00, 795kB/s] \n"
     ]
    },
    {
     "data": {
      "text/plain": [
       "'Chest-CT-Scan-data.zip'"
      ]
     },
     "execution_count": 21,
     "metadata": {},
     "output_type": "execute_result"
    }
   ],
   "execution_count": 21
  }
 ],
 "metadata": {
  "kernelspec": {
   "display_name": "Python 3",
   "language": "python",
   "name": "python3"
  },
  "language_info": {
   "codemirror_mode": {
    "name": "ipython",
    "version": 2
   },
   "file_extension": ".py",
   "mimetype": "text/x-python",
   "name": "python",
   "nbconvert_exporter": "python",
   "pygments_lexer": "ipython2",
   "version": "2.7.6"
  }
 },
 "nbformat": 4,
 "nbformat_minor": 5
}
